{
  "nbformat": 4,
  "nbformat_minor": 0,
  "metadata": {
    "colab": {
      "provenance": [],
      "gpuType": "T4",
      "authorship_tag": "ABX9TyM2h8HIYBy9keFjt0NY9urW",
      "include_colab_link": true
    },
    "kernelspec": {
      "name": "python3",
      "display_name": "Python 3"
    },
    "language_info": {
      "name": "python"
    },
    "accelerator": "GPU"
  },
  "cells": [
    {
      "cell_type": "markdown",
      "metadata": {
        "id": "view-in-github",
        "colab_type": "text"
      },
      "source": [
        "<a href=\"https://colab.research.google.com/github/Okelezo/LSTM-Bayes-Optimizer/blob/main/LSTM_Bayes_Optimizer.ipynb\" target=\"_parent\"><img src=\"https://colab.research.google.com/assets/colab-badge.svg\" alt=\"Open In Colab\"/></a>"
      ]
    },
    {
      "cell_type": "code",
      "execution_count": 2,
      "metadata": {
        "colab": {
          "base_uri": "https://localhost:8080/"
        },
        "id": "rNEItURbTDz7",
        "outputId": "c9b15442-3459-47b1-fc11-522768396b7c"
      },
      "outputs": [
        {
          "output_type": "stream",
          "name": "stdout",
          "text": [
            "Looking in indexes: https://pypi.org/simple, https://us-python.pkg.dev/colab-wheels/public/simple/\n",
            "Collecting bayesian-optimization\n",
            "  Downloading bayesian_optimization-1.4.3-py3-none-any.whl (18 kB)\n",
            "Requirement already satisfied: numpy>=1.9.0 in /usr/local/lib/python3.10/dist-packages (from bayesian-optimization) (1.22.4)\n",
            "Requirement already satisfied: scipy>=1.0.0 in /usr/local/lib/python3.10/dist-packages (from bayesian-optimization) (1.10.1)\n",
            "Requirement already satisfied: scikit-learn>=0.18.0 in /usr/local/lib/python3.10/dist-packages (from bayesian-optimization) (1.2.2)\n",
            "Collecting colorama>=0.4.6 (from bayesian-optimization)\n",
            "  Downloading colorama-0.4.6-py2.py3-none-any.whl (25 kB)\n",
            "Requirement already satisfied: joblib>=1.1.1 in /usr/local/lib/python3.10/dist-packages (from scikit-learn>=0.18.0->bayesian-optimization) (1.2.0)\n",
            "Requirement already satisfied: threadpoolctl>=2.0.0 in /usr/local/lib/python3.10/dist-packages (from scikit-learn>=0.18.0->bayesian-optimization) (3.1.0)\n",
            "Installing collected packages: colorama, bayesian-optimization\n",
            "Successfully installed bayesian-optimization-1.4.3 colorama-0.4.6\n"
          ]
        }
      ],
      "source": [
        "!pip install bayesian-optimization"
      ]
    },
    {
      "cell_type": "code",
      "source": [
        "import pandas as pd\n",
        "import numpy as np\n",
        "import torch\n",
        "import torch.nn as nn\n",
        "from torch.utils.data import TensorDataset, DataLoader\n",
        "from sklearn.preprocessing import MinMaxScaler\n",
        "from bayes_opt import BayesianOptimization\n",
        "\n",
        "# Set device\n",
        "device = torch.device(\"cuda\" if torch.cuda.is_available() else \"cpu\")\n",
        "\n",
        "# Load data\n",
        "price = pd.read_csv('/content/AMZN.csv')\n",
        "price = price['Close'].values.astype(float)\n",
        "\n",
        "# Test, validation, and training splits\n",
        "test_data_size = 100\n",
        "valid_data_size = 100\n",
        "\n",
        "train_data = price[:-2*test_data_size]\n",
        "valid_data = price[-2*test_data_size:-test_data_size]\n",
        "test_data = price[-test_data_size:]\n",
        "\n",
        "# Normalize data\n",
        "scaler = MinMaxScaler(feature_range=(-1, 1))\n",
        "train_data_normalized = scaler.fit_transform(train_data.reshape(-1, 1))\n",
        "\n",
        "# Convert to tensors\n",
        "train_data_normalized = torch.FloatTensor(train_data_normalized).view(-1).to(device)\n",
        "valid_data_normalized = scaler.transform(valid_data.reshape(-1, 1))\n",
        "test_data_normalized = scaler.transform(test_data.reshape(-1, 1))\n",
        "\n",
        "# Windowing\n",
        "def create_inout_sequences(input_data, tw):\n",
        "    inout_seq = []\n",
        "    L = len(input_data)\n",
        "    for i in range(L-tw):\n",
        "        train_seq = input_data[i:i+tw]\n",
        "        train_label = input_data[i+tw:i+tw+1]\n",
        "        inout_seq.append((train_seq ,train_label))\n",
        "    return inout_seq\n",
        "\n",
        "train_window = 12\n",
        "train_inout_seq = create_inout_sequences(train_data_normalized, train_window)\n",
        "\n",
        "# Define model\n",
        "class LSTM(nn.Module):\n",
        "    def __init__(self, input_size=1, hidden_layer_size=100, output_size=1):\n",
        "        super().__init__()\n",
        "        self.hidden_layer_size = hidden_layer_size\n",
        "\n",
        "        self.lstm = nn.LSTM(input_size, hidden_layer_size).to(device)\n",
        "\n",
        "        self.linear = nn.Linear(hidden_layer_size, output_size).to(device)\n",
        "\n",
        "        self.hidden_cell = (torch.zeros(1,1,self.hidden_layer_size).to(device),\n",
        "                            torch.zeros(1,1,self.hidden_layer_size).to(device))\n",
        "\n",
        "    def forward(self, input_seq):\n",
        "        lstm_out, self.hidden_cell = self.lstm(input_seq.view(len(input_seq) ,1, -1), self.hidden_cell)\n",
        "        predictions = self.linear(lstm_out.view(len(input_seq), -1))\n",
        "        return predictions[-1]\n",
        "\n",
        "# Training and optimizing model\n",
        "def optimize_model(lr, hidden_dim):\n",
        "    model = LSTM(input_size=1, hidden_layer_size=int(hidden_dim), output_size=1)\n",
        "    model = model.to(device)\n",
        "    loss_function = nn.MSELoss()\n",
        "    optimizer = torch.optim.Adam(model.parameters(), lr=lr)\n",
        "    epochs = 100\n",
        "\n",
        "    for i in range(epochs):\n",
        "        for seq, labels in train_inout_seq:\n",
        "            optimizer.zero_grad()\n",
        "            model.hidden_cell = (torch.zeros(1, 1, model.hidden_layer_size).to(device),\n",
        "                            torch.zeros(1, 1, model.hidden_layer_size).to(device))\n",
        "\n",
        "            y_pred = model(seq)\n",
        "\n",
        "            single_loss = loss_function(y_pred, labels)\n",
        "            single_loss.backward()\n",
        "            optimizer.step()\n",
        "\n",
        "    return -single_loss.item()\n",
        "\n",
        "bounds = {'lr': (1e-4, 1e-2), 'hidden_dim': (32, 256)}\n",
        "optimizer = BayesianOptimization(f=optimize_model, pbounds=bounds, random_state=42)\n",
        "optimizer.maximize(init_points=10, n_iter=20)\n",
        "\n",
        "for i, res in enumerate(optimizer.res):\n",
        "    print(\"Iteration {}: \\n\\t{}\".format(i, res))\n"
      ],
      "metadata": {
        "colab": {
          "base_uri": "https://localhost:8080/"
        },
        "id": "NmFW7Js4af7p",
        "outputId": "9a0801a7-8a1b-4106-8e59-515207078e87"
      },
      "execution_count": null,
      "outputs": [
        {
          "output_type": "stream",
          "name": "stdout",
          "text": [
            "|   iter    |  target   | hidden... |    lr     |\n",
            "-------------------------------------------------\n",
            "| \u001b[0m1        \u001b[0m | \u001b[0m-0.0337  \u001b[0m | \u001b[0m115.9    \u001b[0m | \u001b[0m0.009512 \u001b[0m |\n",
            "| \u001b[95m2        \u001b[0m | \u001b[95m-0.000738\u001b[0m | \u001b[95m196.0    \u001b[0m | \u001b[95m0.006027 \u001b[0m |\n",
            "| \u001b[95m3        \u001b[0m | \u001b[95m-0.000600\u001b[0m | \u001b[95m66.95    \u001b[0m | \u001b[95m0.001644 \u001b[0m |\n",
            "| \u001b[95m4        \u001b[0m | \u001b[95m-0.000112\u001b[0m | \u001b[95m45.01    \u001b[0m | \u001b[95m0.008675 \u001b[0m |\n",
            "| \u001b[0m5        \u001b[0m | \u001b[0m-0.007345\u001b[0m | \u001b[0m166.6    \u001b[0m | \u001b[0m0.00711  \u001b[0m |\n",
            "| \u001b[0m6        \u001b[0m | \u001b[0m-0.01436 \u001b[0m | \u001b[0m36.61    \u001b[0m | \u001b[0m0.009702 \u001b[0m |\n",
            "| \u001b[0m7        \u001b[0m | \u001b[0m-0.000843\u001b[0m | \u001b[0m218.5    \u001b[0m | \u001b[0m0.002202 \u001b[0m |\n",
            "| \u001b[0m8        \u001b[0m | \u001b[0m-0.002626\u001b[0m | \u001b[0m72.73    \u001b[0m | \u001b[0m0.001916 \u001b[0m |\n",
            "| \u001b[0m9        \u001b[0m | \u001b[0m-0.001365\u001b[0m | \u001b[0m100.2    \u001b[0m | \u001b[0m0.005295 \u001b[0m |\n",
            "| \u001b[0m10       \u001b[0m | \u001b[0m-0.003337\u001b[0m | \u001b[0m128.8    \u001b[0m | \u001b[0m0.002983 \u001b[0m |\n",
            "| \u001b[0m11       \u001b[0m | \u001b[0m-0.000146\u001b[0m | \u001b[0m50.31    \u001b[0m | \u001b[0m0.004637 \u001b[0m |\n",
            "| \u001b[0m12       \u001b[0m | \u001b[0m-0.01495 \u001b[0m | \u001b[0m207.1    \u001b[0m | \u001b[0m0.007023 \u001b[0m |\n"
          ]
        }
      ]
    }
  ]
}